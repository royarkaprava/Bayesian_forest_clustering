{
 "cells": [
  {
   "cell_type": "code",
   "execution_count": 1,
   "id": "70e99df7-6e48-401b-aabc-dcfb285b72a8",
   "metadata": {},
   "outputs": [
    {
     "name": "stderr",
     "output_type": "stream",
     "text": [
      "Loading required package: igraph\n",
      "\n",
      "\n",
      "Attaching package: ‘igraph’\n",
      "\n",
      "\n",
      "The following objects are masked from ‘package:stats’:\n",
      "\n",
      "    decompose, spectrum\n",
      "\n",
      "\n",
      "The following object is masked from ‘package:base’:\n",
      "\n",
      "    union\n",
      "\n",
      "\n",
      "Loading required package: GIGrvg\n",
      "\n",
      "Loading required package: gtools\n",
      "\n",
      "\n",
      "Attaching package: ‘gtools’\n",
      "\n",
      "\n",
      "The following object is masked from ‘package:igraph’:\n",
      "\n",
      "    permute\n",
      "\n",
      "\n"
     ]
    },
    {
     "data": {
      "text/html": [
       "166"
      ],
      "text/latex": [
       "166"
      ],
      "text/markdown": [
       "166"
      ],
      "text/plain": [
       "[1] 166"
      ]
     },
     "metadata": {},
     "output_type": "display_data"
    }
   ],
   "source": [
    "require(\"igraph\")\n",
    "require(\"GIGrvg\")\n",
    "require(\"gtools\")\n",
    "\n",
    "setwd(\"~/git/Bayesian_forest_clustering/\")\n",
    "\n",
    "load(\"time_series_fmri_std.RDa\")\n",
    "\n",
    "S <- length(timeseries_fmri_std)\n",
    "S\n"
   ]
  },
  {
   "cell_type": "code",
   "execution_count": 2,
   "id": "60ff277d-ddc6-481e-9fb9-847129f1d776",
   "metadata": {},
   "outputs": [],
   "source": [
    "load(\"fmri_labels.RDa\")"
   ]
  },
  {
   "cell_type": "code",
   "execution_count": 3,
   "id": "136b0573-1ee8-4f37-9b06-4a78d59fc63e",
   "metadata": {},
   "outputs": [],
   "source": [
    "labels0<- do.call(\"c\",label_list)"
   ]
  },
  {
   "cell_type": "code",
   "execution_count": 4,
   "id": "b159aa62-9f24-4918-8cc0-9a3f44f92601",
   "metadata": {},
   "outputs": [],
   "source": [
    "ord_idx<- order(labels0)"
   ]
  },
  {
   "cell_type": "code",
   "execution_count": 5,
   "id": "f52ae0b9-8de0-41c7-9dbb-a5c4e010aaa1",
   "metadata": {},
   "outputs": [],
   "source": [
    "# # double check to make sure group id matches with subject id\n",
    "\n",
    "# filename<- list.files(\"../../orange/AAL_fmri/\")\n",
    "\n",
    "# require(\"stringr\")\n",
    "\n",
    "# list2<- lapply(labels_table$V1, function(x) str_split(x,\"/\")[[1]][2])\n",
    "\n",
    "# for(s in 1:S){\n",
    "#     if(list2[[s]] !=filename[s]){\n",
    "#     print(s)\n",
    "#     }\n",
    "# }\n"
   ]
  },
  {
   "cell_type": "code",
   "execution_count": 6,
   "id": "9ffef265-46f3-4c03-a26b-fb04fe0702f2",
   "metadata": {},
   "outputs": [],
   "source": [
    "labels <- labels0[ord_idx]"
   ]
  },
  {
   "cell_type": "code",
   "execution_count": 7,
   "id": "1a0ee439-74fd-449e-b0e6-a082c2823ccd",
   "metadata": {},
   "outputs": [],
   "source": [
    "source(\"forest_class.R\")\n"
   ]
  },
  {
   "cell_type": "code",
   "execution_count": 8,
   "id": "768af4a6-ab8e-4dfe-9b8d-7f702f4397dc",
   "metadata": {},
   "outputs": [
    {
     "data": {
      "text/html": [
       "166"
      ],
      "text/latex": [
       "166"
      ],
      "text/markdown": [
       "166"
      ],
      "text/plain": [
       "[1] 166"
      ]
     },
     "metadata": {},
     "output_type": "display_data"
    }
   ],
   "source": [
    "S"
   ]
  },
  {
   "cell_type": "code",
   "execution_count": 9,
   "id": "a2e641d0-ab2a-409c-ab9b-7995fd3f9a01",
   "metadata": {},
   "outputs": [],
   "source": [
    "#create a list of forest objects\n",
    "\n",
    "forest_objs = list()\n",
    "\n",
    "y_mat<- numeric()\n",
    "\n",
    "for(s in 1:S){\n",
    "  forest_objs[[s]]<- Forest$new()\n",
    "  forest_objs[[s]]$init(timeseries_fmri_std[[ord_idx[s]]][,1:120])\n",
    "  # y_mat<- rbind(y_mat, c(timeseries_fmri_std[[ord_idx[s]]][,1:120]))\n",
    "    \n",
    "  forest_objs[[s]]$randomInitZ(2)\n",
    "}"
   ]
  },
  {
   "cell_type": "code",
   "execution_count": null,
   "id": "3b232be6-0483-4617-8752-d90d1637307b",
   "metadata": {},
   "outputs": [],
   "source": []
  },
  {
   "cell_type": "code",
   "execution_count": 10,
   "id": "779cfd9c-9a1f-48a9-a8d6-e4bba685797f",
   "metadata": {},
   "outputs": [],
   "source": [
    "n<- forest_objs[[1]]$n\n",
    "Z_d<- forest_objs[[1]]$Z_d\n",
    "Z_K_tilde<- 4^Z_d\n",
    "\n",
    "eta_tilde<- matrix(c(1:4),ncol=1)\n",
    "for(j in (1:(Z_d-1))){\n",
    "  eta_tilde<- rbind(cbind(eta_tilde,1),cbind(eta_tilde,2),cbind(eta_tilde,3),cbind(eta_tilde,4))\n",
    "}\n"
   ]
  },
  {
   "cell_type": "code",
   "execution_count": 11,
   "id": "2b72f746-1448-447c-ba67-1169e0b7f0dc",
   "metadata": {},
   "outputs": [],
   "source": [
    "\n",
    "# eta_tilde<- eta_tilde *0.5\n",
    "\n",
    "Z_k<- matrix( as.numeric(sample(c(1:Z_K_tilde),n*S,replace=TRUE)), n)\n",
    "\n",
    "v<- matrix(1,n,Z_K_tilde)/Z_K_tilde\n",
    "\n",
    "\n",
    "for(s in 1:S){\n",
    "    forest_objs[[s]]$Z = eta_tilde[Z_k[,s],] + rnorm(n*Z_d)*0.1\n",
    "    forest_objs[[s]]$Z<- rbind(forest_objs[[s]]$Z,0)\n",
    "}"
   ]
  },
  {
   "cell_type": "code",
   "execution_count": 12,
   "id": "b1344cd5-e027-4dd0-b3ce-38a7c471729d",
   "metadata": {},
   "outputs": [],
   "source": [
    "trace_Z_k<- list()"
   ]
  },
  {
   "cell_type": "code",
   "execution_count": 315,
   "id": "9a139f53-4b62-49f4-8cd7-b795aa98111c",
   "metadata": {},
   "outputs": [],
   "source": [
    "Cmat_list<- list()\n",
    "for(s in 1:S){\n",
    "    Cmat_list[[s]]<- 0\n",
    "}"
   ]
  },
  {
   "cell_type": "code",
   "execution_count": 316,
   "id": "9c60b504-5e67-42a4-abb0-46522bdc8244",
   "metadata": {},
   "outputs": [
    {
     "name": "stdout",
     "output_type": "stream",
     "text": [
      "  |                                                  |   0%[1] 694\n",
      "  |                                                  |   1%[1] 674\n",
      "  |=                                                 |   2%[1] 673\n",
      "  |==                                                |   3%[1] 715\n",
      "  |==                                                |   4%[1] 699\n",
      "  |==                                                |   5%[1] 687\n",
      "  |===                                               |   6%[1] 667\n",
      "  |====                                              |   7%[1] 698\n",
      "  |====                                              |   8%[1] 670\n",
      "  |====                                              |   9%[1] 698\n",
      "  |=====                                             |  10%[1] 685\n",
      "  |======                                            |  11%[1] 672\n",
      "  |======                                            |  12%[1] 650\n",
      "  |======                                            |  13%[1] 646\n",
      "  |=======                                           |  14%[1] 694\n",
      "  |========                                          |  15%[1] 699\n",
      "  |========                                          |  16%[1] 660\n",
      "  |========                                          |  17%[1] 673\n",
      "  |=========                                         |  18%[1] 711\n",
      "  |==========                                        |  19%[1] 697\n",
      "  |==========                                        |  20%[1] 668\n",
      "  |==========                                        |  21%[1] 658\n",
      "  |===========                                       |  22%[1] 588\n",
      "  |============                                      |  23%[1] 652\n",
      "  |============                                      |  24%[1] 656\n",
      "  |============                                      |  25%[1] 625\n",
      "  |=============                                     |  26%[1] 644\n",
      "  |==============                                    |  27%[1] 654\n",
      "  |==============                                    |  28%[1] 664\n",
      "  |==============                                    |  29%[1] 632\n",
      "  |===============                                   |  30%[1] 597\n",
      "  |================                                  |  31%[1] 632\n",
      "  |================                                  |  32%[1] 661\n",
      "  |================                                  |  33%[1] 646\n",
      "  |=================                                 |  34%[1] 688\n",
      "  |==================                                |  35%[1] 659\n",
      "  |==================                                |  36%[1] 604\n",
      "  |==================                                |  37%[1] 615\n",
      "  |===================                               |  38%[1] 606\n",
      "  |====================                              |  39%[1] 609\n",
      "  |====================                              |  40%[1] 631\n",
      "  |====================                              |  41%[1] 632\n",
      "  |=====================                             |  42%[1] 655\n",
      "  |======================                            |  43%[1] 704\n",
      "  |======================                            |  44%[1] 665\n",
      "  |======================                            |  45%[1] 632\n",
      "  |=======================                           |  46%[1] 635\n",
      "  |========================                          |  47%[1] 633\n",
      "  |========================                          |  48%[1] 657\n",
      "  |========================                          |  49%[1] 664\n",
      "  |=========================                         |  50%[1] 641\n",
      "  |==========================                        |  51%[1] 631\n",
      "  |==========================                        |  52%[1] 644\n",
      "  |==========================                        |  53%[1] 616\n",
      "  |===========================                       |  54%[1] 630\n",
      "  |============================                      |  55%[1] 674\n",
      "  |============================                      |  56%[1] 681\n",
      "  |============================                      |  57%[1] 643\n",
      "  |=============================                     |  58%[1] 628\n",
      "  |==============================                    |  59%[1] 634\n",
      "  |==============================                    |  60%[1] 663\n",
      "  |==============================                    |  61%[1] 655\n",
      "  |===============================                   |  62%[1] 658\n",
      "  |================================                  |  63%[1] 702\n",
      "  |================================                  |  64%[1] 657\n",
      "  |================================                  |  65%[1] 648\n",
      "  |=================================                 |  66%[1] 656\n",
      "  |==================================                |  67%[1] 685\n",
      "  |==================================                |  68%[1] 662\n",
      "  |==================================                |  69%[1] 689\n",
      "  |===================================               |  70%[1] 657\n",
      "  |====================================              |  71%[1] 669\n",
      "  |====================================              |  72%[1] 674\n",
      "  |====================================              |  73%[1] 667\n",
      "  |=====================================             |  74%[1] 657\n",
      "  |======================================            |  75%[1] 650\n",
      "  |======================================            |  76%[1] 658\n",
      "  |======================================            |  77%[1] 707\n",
      "  |=======================================           |  78%[1] 676\n",
      "  |========================================          |  79%[1] 643\n",
      "  |========================================          |  80%[1] 661\n",
      "  |========================================          |  81%[1] 676\n",
      "  |=========================================         |  82%[1] 678\n",
      "  |==========================================        |  83%[1] 682\n",
      "  |==========================================        |  84%[1] 696\n",
      "  |==========================================        |  85%[1] 724\n",
      "  |===========================================       |  86%[1] 699\n",
      "  |============================================      |  87%[1] 672\n",
      "  |============================================      |  88%[1] 653\n",
      "  |============================================      |  89%[1] 700\n",
      "  |=============================================     |  90%[1] 719\n",
      "  |==============================================    |  91%[1] 716\n",
      "  |==============================================    |  92%[1] 688\n",
      "  |==============================================    |  93%[1] 676\n",
      "  |===============================================   |  94%[1] 718\n",
      "  |================================================  |  95%[1] 741\n",
      "  |================================================  |  96%[1] 713\n",
      "  |================================================  |  97%[1] 726\n",
      "  |================================================= |  98%[1] 693\n",
      "  |==================================================|  99%[1] 676\n",
      "  |==================================================| 100%"
     ]
    }
   ],
   "source": [
    "n_iter= 100\n",
    "\n",
    "\n",
    "pb <- txtProgressBar(min = 0,      # Minimum value of the progress bar\n",
    "                       max = n_iter, # Maximum value of the progress bar\n",
    "                       style = 3,    # Progress bar style (also available style = 1 and style = 2)\n",
    "                       width = 50,   # Progress bar width. Defaults to getOption(\"width\")\n",
    "                       char = \"=\")   # Character used to create the bar\n",
    "  \n",
    "# rho1= 0.5 #0.5 **2\n",
    "# rho2= 0.001 #0.1**2\n",
    "\n",
    "rho1= 0.5**2\n",
    "rho2= 0.01**2 #0.1**2\n",
    "\n",
    "for(step in 1:n_iter){\n",
    "  Z_k_copy<- Z_k\n",
    "    \n",
    "  for(s in 1:S){\n",
    "    forest_objs[[s]]$MCMC_oneScan()\n",
    "  }\n",
    "    \n",
    "    sampleZ(rho1,rho2)\n",
    "    sampleZ_k()\n",
    "    sampleV(1)\n",
    "    \n",
    "    # sample_eta_tilde()\n",
    "    \n",
    "    for(s in 1:S){\n",
    "          forest_objs[[s]]$useZforLogPrior(rho1,rho2)\n",
    "    }\n",
    "      \n",
    "    \n",
    "    print( sum(sum(abs(Z_k_copy-Z_k)>0)))\n",
    "    \n",
    "    setTxtProgressBar(pb, step)\n",
    "\n",
    "    trace_Z_k[[step]]<- Z_k\n",
    "    \n",
    "    for(s in 1:S){\n",
    "        mem<- extractC(forest_objs[[s]]$A_T)\n",
    "        Cmat_list[[s]] = Cmat_list[[s]]+ outer(mem,mem,\"==\")*1\n",
    "    }\n",
    "\n",
    "}"
   ]
  },
  {
   "cell_type": "code",
   "execution_count": null,
   "id": "f6401a8c-0836-4127-84d8-a07284b2cafa",
   "metadata": {},
   "outputs": [],
   "source": []
  },
  {
   "cell_type": "code",
   "execution_count": null,
   "id": "97de8385-9c84-4296-ba6f-8c896576c82f",
   "metadata": {},
   "outputs": [],
   "source": []
  },
  {
   "cell_type": "code",
   "execution_count": 318,
   "id": "8dc5eaa4-e0ce-4372-a6fe-4a0055757f75",
   "metadata": {},
   "outputs": [],
   "source": [
    "require(\"fields\")"
   ]
  },
  {
   "cell_type": "code",
   "execution_count": 319,
   "id": "3bb4044d-f86e-4090-a490-ef566733f567",
   "metadata": {},
   "outputs": [],
   "source": [
    "require(\"matlab\")"
   ]
  },
  {
   "cell_type": "code",
   "execution_count": null,
   "id": "b04e63c8-201d-43de-b372-d13be8817291",
   "metadata": {},
   "outputs": [],
   "source": []
  },
  {
   "cell_type": "code",
   "execution_count": 683,
   "id": "bb466f75-539c-4b3a-a70b-c81098732565",
   "metadata": {},
   "outputs": [
    {
     "data": {
      "text/html": [
       "0.963855421686747"
      ],
      "text/latex": [
       "0.963855421686747"
      ],
      "text/markdown": [
       "0.963855421686747"
      ],
      "text/plain": [
       "[1] 0.9638554"
      ]
     },
     "metadata": {},
     "output_type": "display_data"
    }
   ],
   "source": []
  },
  {
   "cell_type": "code",
   "execution_count": 707,
   "id": "4bcd3411-e25d-4c21-9d2b-f3f1c73a4df2",
   "metadata": {},
   "outputs": [
    {
     "data": {
      "text/html": [
       "<strong>png:</strong> 2"
      ],
      "text/latex": [
       "\\textbf{png:} 2"
      ],
      "text/markdown": [
       "**png:** 2"
      ],
      "text/plain": [
       "png \n",
       "  2 "
      ]
     },
     "metadata": {},
     "output_type": "display_data"
    }
   ],
   "source": [
    "Z_mat<- sapply(forest_objs, function(x){c(x$Z)})\n",
    "Z_dist<- as.matrix(dist(t(Z_mat),upper = TRUE, diag=TRUE))\n",
    "\n",
    "\n",
    "png(\"z_dist.png\",600,600,res = 100)\n",
    "par(cex.axis=2.0)\n",
    "\n",
    "Z_dist[Z_dist<2.5]<- 2.5\n",
    "\n",
    "Z_dist<- t(apply(Z_dist,1,rev))\n",
    "# Z_dist<- apply(Z_dist,2,rev)\n",
    "\n",
    "image.plot(Z_dist,col = jet.colors(30), xaxt= \"n\", yaxt= \"n\" )\n",
    "axis(1, at = seq(0, 160/S, length.out =  5), labels= c(0:4)*40, las=1,\n",
    "     cex.lab=30)\n",
    "axis(2, at = 1-seq(0, 160/S, length.out =  5), labels= c(0:4)*40, las=1,\n",
    "     cex.lab=3\n",
    "    )\n",
    "\n",
    "dev.off()"
   ]
  },
  {
   "cell_type": "code",
   "execution_count": 321,
   "id": "e74282d7-b22d-4671-a8bf-12b77af1b105",
   "metadata": {},
   "outputs": [
    {
     "data": {
      "text/plain": [
       "labels\n",
       "   CN  LMCI LMCI3 \n",
       "   64    44    58 "
      ]
     },
     "metadata": {},
     "output_type": "display_data"
    }
   ],
   "source": [
    "table(labels)"
   ]
  },
  {
   "cell_type": "code",
   "execution_count": 322,
   "id": "98908bb6-e6b6-43da-954f-0e7bd34f1777",
   "metadata": {},
   "outputs": [],
   "source": [
    "s_idx<- c(1:S)"
   ]
  },
  {
   "cell_type": "code",
   "execution_count": 512,
   "id": "9b23c84e-35bc-4de2-8c35-3a8530d2dd4b",
   "metadata": {},
   "outputs": [],
   "source": [
    "sel_node_sd_g0 <- (apply(Z_k,1,sd))>0\n",
    "sel_node <- c(1:n)[sel_node_sd_g0]\n",
    "new_idx<-c(c(1:n)[sel_node_sd_g0],c(1:n)[!sel_node_sd_g0])"
   ]
  },
  {
   "cell_type": "code",
   "execution_count": 641,
   "id": "06f4799c-c208-44b1-ad94-67057f26ff4d",
   "metadata": {},
   "outputs": [],
   "source": [
    "Z_mat2<- sapply(forest_objs, function(x){ rowSums(abs(x$Z[1:n,]))})"
   ]
  },
  {
   "cell_type": "code",
   "execution_count": 565,
   "id": "3d833e70-03b2-49d6-8abb-7e96e2ae41f4",
   "metadata": {},
   "outputs": [],
   "source": []
  },
  {
   "cell_type": "code",
   "execution_count": 643,
   "id": "753fca39-2941-42cc-9121-1eed58df9a80",
   "metadata": {},
   "outputs": [],
   "source": [
    "sd_plot <-  (apply(Z_mat2,1,sd))"
   ]
  },
  {
   "cell_type": "code",
   "execution_count": 644,
   "id": "0b57e44b-9304-44f3-b92e-a7a95458f8e8",
   "metadata": {},
   "outputs": [],
   "source": [
    "alpha_plot <-  (apply(Z_k,1,sd)>0)\n"
   ]
  },
  {
   "cell_type": "code",
   "execution_count": 645,
   "id": "3d2b9677-3cfa-4662-b52b-81f10940cb4e",
   "metadata": {},
   "outputs": [],
   "source": [
    "require(\"ggplot2\")\n",
    "require(\"reshape\")"
   ]
  },
  {
   "cell_type": "code",
   "execution_count": 775,
   "id": "5cb8d52c-13ee-4165-8e85-7a93b7884dd6",
   "metadata": {},
   "outputs": [
    {
     "data": {
      "text/html": [
       "<strong>png:</strong> 2"
      ],
      "text/latex": [
       "\\textbf{png:} 2"
      ],
      "text/markdown": [
       "**png:** 2"
      ],
      "text/plain": [
       "png \n",
       "  2 "
      ]
     },
     "metadata": {},
     "output_type": "display_data"
    }
   ],
   "source": [
    "png(\"node_z_stddev.png\",600,600,res = 100)\n",
    "df <- data.frame( Node= c(1:n),StdDev=apply(Z_mat2,1,sd))\n",
    "ggplot(df)+ geom_point(aes(x=Node,y=StdDev,col=sd_plot),size=2)+\n",
    "theme_bw()+ theme(legend.position=\"none\",\n",
    "                  text = element_text(size = 30),\n",
    "                 )+ xlab(\"\") + ylab(\"\")  +\n",
    "scale_color_gradientn(colors = jet.colors(30))+\n",
    "theme(plot.margin = margin(1,1,1,1, \"cm\"))\n",
    "\n",
    "\n",
    "dev.off()"
   ]
  },
  {
   "cell_type": "code",
   "execution_count": 607,
   "id": "cf6e92d6-c7db-4a8a-a336-d22c80e503da",
   "metadata": {},
   "outputs": [],
   "source": [
    "coords<- read.table(\"./centroid.txt\",)"
   ]
  },
  {
   "cell_type": "code",
   "execution_count": null,
   "id": "f237e6b7-3d32-4f33-9a11-eb95f8b07479",
   "metadata": {},
   "outputs": [],
   "source": [
    "jet.colors"
   ]
  },
  {
   "cell_type": "code",
   "execution_count": 774,
   "id": "3fc4f827-657a-4009-9793-8d6b050251c7",
   "metadata": {},
   "outputs": [
    {
     "data": {
      "text/html": [
       "<strong>png:</strong> 2"
      ],
      "text/latex": [
       "\\textbf{png:} 2"
      ],
      "text/markdown": [
       "**png:** 2"
      ],
      "text/plain": [
       "png \n",
       "  2 "
      ]
     },
     "metadata": {},
     "output_type": "display_data"
    }
   ],
   "source": [
    "png(\"node_z_stddev_brain.png\",600,600,res = 100)\n",
    "\n",
    "ggplot()+ geom_point(aes(x=coords$V3,y=coords$V4,col=sd_plot),size=2)+\n",
    "theme_bw()+ theme(legend.position=\"none\",\n",
    "                  text = element_text(size = 30),\n",
    "                 )+ xlab(\"\") + ylab(\"\")  +\n",
    "scale_color_gradientn(colors = jet.colors(30))+\n",
    "theme(plot.margin = margin(1,1,1,1, \"cm\"))\n",
    "\n",
    "dev.off()"
   ]
  },
  {
   "cell_type": "code",
   "execution_count": 609,
   "id": "c086d610-5a8b-425f-83ab-9d2a898897cc",
   "metadata": {},
   "outputs": [],
   "source": [
    "Z_k_nodes_list<- lapply(c(1:S), function(i) as.matrix(dist(forest_objs[[i]]$Z, upper=TRUE, diag=TRUE)))"
   ]
  },
  {
   "cell_type": "code",
   "execution_count": 610,
   "id": "4375c290-3e12-48cb-9d08-c753dc6f8a8b",
   "metadata": {},
   "outputs": [],
   "source": [
    "CN_idx <-  (1:S)[labels==\"CN\"]\n",
    "LCMI_idx <-  (1:S)[labels==\"LMCI\" |labels==\"LMCI3\"]"
   ]
  },
  {
   "cell_type": "code",
   "execution_count": 664,
   "id": "3e4e872c-5cb9-47d1-829c-b0a89571b377",
   "metadata": {},
   "outputs": [
    {
     "data": {
      "text/html": [
       "64"
      ],
      "text/latex": [
       "64"
      ],
      "text/markdown": [
       "64"
      ],
      "text/plain": [
       "[1] 64"
      ]
     },
     "metadata": {},
     "output_type": "display_data"
    },
    {
     "data": {
      "text/html": [
       "102"
      ],
      "text/latex": [
       "102"
      ],
      "text/markdown": [
       "102"
      ],
      "text/plain": [
       "[1] 102"
      ]
     },
     "metadata": {},
     "output_type": "display_data"
    }
   ],
   "source": [
    "length(CN_idx)\n",
    "length(LCMI_idx)"
   ]
  },
  {
   "cell_type": "code",
   "execution_count": null,
   "id": "02fe713b-7d49-4617-b468-402c73ddfb68",
   "metadata": {},
   "outputs": [],
   "source": []
  },
  {
   "cell_type": "code",
   "execution_count": 611,
   "id": "ed9f7200-93b8-4a15-94df-444043d0695e",
   "metadata": {},
   "outputs": [],
   "source": [
    "new_idx<- c(c(1:n)[alpha_plot],c(1:n)[!alpha_plot])"
   ]
  },
  {
   "cell_type": "code",
   "execution_count": 587,
   "id": "f8c8012f-bf93-4f50-92e6-490ca04a4609",
   "metadata": {},
   "outputs": [],
   "source": [
    "# plot(apply(Z_mat2,1,sd)[new_idx])"
   ]
  },
  {
   "cell_type": "code",
   "execution_count": null,
   "id": "9a6c957f-ee12-44d9-9250-8c43218bb1d9",
   "metadata": {},
   "outputs": [],
   "source": []
  },
  {
   "cell_type": "code",
   "execution_count": 589,
   "id": "985326ab-9584-44d9-a6d0-3ba78bbdaac3",
   "metadata": {},
   "outputs": [],
   "source": [
    "# plot(apply(Z_mat2,1,sd)[new_idx])"
   ]
  },
  {
   "cell_type": "code",
   "execution_count": 590,
   "id": "20a5f43b-2a6d-48a8-8c8e-f2041ff1218d",
   "metadata": {},
   "outputs": [],
   "source": [
    "CN_AT_sum<- 0\n",
    "for(i in CN_idx){\n",
    "    # mem <- extractC(forest_objs[[i]]$A_T)\n",
    "    \n",
    "    # CN_AT_sum <- CN_AT_sum+  outer(mem,mem,\"==\")*1 #forest_objs[[i]]$A_T\n",
    "    \n",
    "    CN_AT_sum <- CN_AT_sum+  Cmat_list[[i]]/100\n",
    "}\n",
    "\n",
    "CN_AT_sum = CN_AT_sum/length(CN_idx)\n",
    "diag(CN_AT_sum) = NA"
   ]
  },
  {
   "cell_type": "code",
   "execution_count": 637,
   "id": "a54bf619-e137-4174-8e8b-27da287a82a5",
   "metadata": {},
   "outputs": [],
   "source": [
    "ord_sd<- order(apply(Z_mat2,1,sd),decreasing = TRUE)"
   ]
  },
  {
   "cell_type": "code",
   "execution_count": 658,
   "id": "0ad86aea-16e5-4d52-8802-1673e94a1254",
   "metadata": {},
   "outputs": [],
   "source": [
    "flipMat<- function(Z){\n",
    "    t(apply(Z,1,rev))\n",
    "}"
   ]
  },
  {
   "cell_type": "code",
   "execution_count": 725,
   "id": "764a3fd4-6324-4abd-aa44-dcb97c3ba77b",
   "metadata": {},
   "outputs": [
    {
     "data": {
      "text/html": [
       "<strong>png:</strong> 2"
      ],
      "text/latex": [
       "\\textbf{png:} 2"
      ],
      "text/markdown": [
       "**png:** 2"
      ],
      "text/plain": [
       "png \n",
       "  2 "
      ]
     },
     "metadata": {},
     "output_type": "display_data"
    }
   ],
   "source": [
    "png(\"cn_mat_sorted.png\",600,600,res = 100)\n",
    "par(cex.axis=2.0)\n",
    "image.plot(flipMat(CN_AT_sum[ord_sd,ord_sd]), xaxt= \"n\", yaxt= \"n\" ,col=jet.colors(30),\n",
    "     zlim=c(0,1)\n",
    "     )\n",
    "dev.off()"
   ]
  },
  {
   "cell_type": "code",
   "execution_count": 729,
   "id": "754f70fa-90f8-4a36-a5ab-e15f65442eda",
   "metadata": {},
   "outputs": [
    {
     "data": {
      "text/html": [
       "<strong>png:</strong> 2"
      ],
      "text/latex": [
       "\\textbf{png:} 2"
      ],
      "text/markdown": [
       "**png:** 2"
      ],
      "text/plain": [
       "png \n",
       "  2 "
      ]
     },
     "metadata": {},
     "output_type": "display_data"
    }
   ],
   "source": [
    "png(\"cn_mat_unsorted.png\",600,600,res = 100)\n",
    "par(cex.axis=2.0)\n",
    "image.plot(flipMat(CN_AT_sum), xaxt= \"n\", yaxt= \"n\" ,col=jet.colors(30),\n",
    "     zlim=c(0,1)\n",
    "     )\n",
    "dev.off()"
   ]
  },
  {
   "cell_type": "code",
   "execution_count": 471,
   "id": "9c20580e-bc7d-4bb2-a9eb-150a7765cc48",
   "metadata": {},
   "outputs": [],
   "source": [
    "LCMI_AT_sum<- 0\n",
    "for(i in LCMI_idx){\n",
    "\n",
    "    mem <- extractC(forest_objs[[i]]$A_T)\n",
    "\n",
    "    LCMI_AT_sum <- LCMI_AT_sum+  Cmat_list[[i]]/100\n",
    "}\n",
    "\n",
    "LCMI_AT_sum= LCMI_AT_sum/length(LCMI_idx)\n",
    "\n",
    "diag(LCMI_AT_sum) = NA"
   ]
  },
  {
   "cell_type": "code",
   "execution_count": 730,
   "id": "8fbbb66f-9d6e-4cc1-abd7-acb19f48b98b",
   "metadata": {},
   "outputs": [
    {
     "data": {
      "text/html": [
       "<strong>png:</strong> 2"
      ],
      "text/latex": [
       "\\textbf{png:} 2"
      ],
      "text/markdown": [
       "**png:** 2"
      ],
      "text/plain": [
       "png \n",
       "  2 "
      ]
     },
     "metadata": {},
     "output_type": "display_data"
    }
   ],
   "source": [
    "png(\"lmci_mat_sorted.png\",600,600,res = 100)\n",
    "par(cex.axis=2.0)\n",
    "image.plot(flipMat(LCMI_AT_sum[ord_sd,ord_sd]), xaxt= \"n\", yaxt= \"n\",col=jet.colors(30),\n",
    "     zlim=c(0,1)\n",
    "     )\n",
    "dev.off()"
   ]
  },
  {
   "cell_type": "code",
   "execution_count": 731,
   "id": "dca78220-50cd-428a-a532-f2a77a1c71a7",
   "metadata": {},
   "outputs": [
    {
     "data": {
      "text/html": [
       "<strong>png:</strong> 2"
      ],
      "text/latex": [
       "\\textbf{png:} 2"
      ],
      "text/markdown": [
       "**png:** 2"
      ],
      "text/plain": [
       "png \n",
       "  2 "
      ]
     },
     "metadata": {},
     "output_type": "display_data"
    }
   ],
   "source": [
    "mar = rep(0, 4)\n",
    "png(\"lmci_mat_unsorted.png\",600,600,res = 100)\n",
    "par(cex.axis=2.0)\n",
    "image.plot(flipMat(LCMI_AT_sum), xaxt= \"n\", yaxt= \"n\",col=jet.colors(30),\n",
    "     zlim=c(0,1)\n",
    "     )\n",
    "dev.off()"
   ]
  },
  {
   "cell_type": "code",
   "execution_count": null,
   "id": "bec5464d-2af8-4e1a-877b-d404b1226631",
   "metadata": {},
   "outputs": [],
   "source": [
    "dim((Z_k[sel_node,]))"
   ]
  },
  {
   "cell_type": "code",
   "execution_count": null,
   "id": "31d2e1ec-f92c-4ebb-bfa5-23e6880298fe",
   "metadata": {},
   "outputs": [],
   "source": [
    "plot((Z_k[sel_node[1],]))"
   ]
  },
  {
   "cell_type": "code",
   "execution_count": 733,
   "id": "7c042a5a-163c-4f90-82bb-5a757e211664",
   "metadata": {},
   "outputs": [
    {
     "data": {
      "text/html": [
       "<style>\n",
       ".list-inline {list-style: none; margin:0; padding: 0}\n",
       ".list-inline>li {display: inline-block}\n",
       ".list-inline>li:not(:last-child)::after {content: \"\\00b7\"; padding: 0 .5ex}\n",
       "</style>\n",
       "<ol class=list-inline><li>1</li><li>6</li><li>12</li><li>15</li><li>20</li><li>22</li><li>28</li><li>35</li><li>36</li><li>37</li><li>42</li><li>54</li><li>57</li><li>59</li><li>68</li><li>73</li><li>85</li><li>91</li><li>95</li><li>99</li><li>100</li><li>101</li><li>112</li><li>116</li></ol>\n"
      ],
      "text/latex": [
       "\\begin{enumerate*}\n",
       "\\item 1\n",
       "\\item 6\n",
       "\\item 12\n",
       "\\item 15\n",
       "\\item 20\n",
       "\\item 22\n",
       "\\item 28\n",
       "\\item 35\n",
       "\\item 36\n",
       "\\item 37\n",
       "\\item 42\n",
       "\\item 54\n",
       "\\item 57\n",
       "\\item 59\n",
       "\\item 68\n",
       "\\item 73\n",
       "\\item 85\n",
       "\\item 91\n",
       "\\item 95\n",
       "\\item 99\n",
       "\\item 100\n",
       "\\item 101\n",
       "\\item 112\n",
       "\\item 116\n",
       "\\end{enumerate*}\n"
      ],
      "text/markdown": [
       "1. 1\n",
       "2. 6\n",
       "3. 12\n",
       "4. 15\n",
       "5. 20\n",
       "6. 22\n",
       "7. 28\n",
       "8. 35\n",
       "9. 36\n",
       "10. 37\n",
       "11. 42\n",
       "12. 54\n",
       "13. 57\n",
       "14. 59\n",
       "15. 68\n",
       "16. 73\n",
       "17. 85\n",
       "18. 91\n",
       "19. 95\n",
       "20. 99\n",
       "21. 100\n",
       "22. 101\n",
       "23. 112\n",
       "24. 116\n",
       "\n",
       "\n"
      ],
      "text/plain": [
       " [1]   1   6  12  15  20  22  28  35  36  37  42  54  57  59  68  73  85  91  95\n",
       "[20]  99 100 101 112 116"
      ]
     },
     "metadata": {},
     "output_type": "display_data"
    }
   ],
   "source": [
    "sel_node"
   ]
  },
  {
   "cell_type": "code",
   "execution_count": 740,
   "id": "6c849cea-db7e-493a-a666-a62d8ae532b7",
   "metadata": {},
   "outputs": [
    {
     "data": {
      "text/html": [
       "2"
      ],
      "text/latex": [
       "2"
      ],
      "text/markdown": [
       "2"
      ],
      "text/plain": [
       "[1] 2"
      ]
     },
     "metadata": {},
     "output_type": "display_data"
    },
    {
     "data": {
      "image/png": "[encoded data removed]",
      "text/plain": [
       "plot without title"
      ]
     },
     "metadata": {
      "image/png": {
       "height": 420,
       "width": 420
      }
     },
     "output_type": "display_data"
    }
   ],
   "source": [
    "f1<- forest_objs[[CN_idx[6]]]\n",
    "n<- f1$n\n",
    "\n",
    "sum(f1$A_T[n+1,])\n",
    "\n",
    "plot(coords$V3,coords$V4)\n",
    "for(i in 2:n){\n",
    "  for(j in 1:n){\n",
    "    if(f1$A_T[i,j]==1){\n",
    "        if(i %in% sel_node){\n",
    "            if(j %in% sel_node){\n",
    "                  lines(coords$V3[c(i,j)],coords$V4[c(i,j)])\n",
    "        }\n",
    "        }\n",
    "    }\n",
    "  }\n",
    "}"
   ]
  },
  {
   "cell_type": "code",
   "execution_count": 747,
   "id": "d0abec39-b2cf-48ea-8492-bd784a035e06",
   "metadata": {},
   "outputs": [
    {
     "data": {
      "text/html": [
       "4"
      ],
      "text/latex": [
       "4"
      ],
      "text/markdown": [
       "4"
      ],
      "text/plain": [
       "[1] 4"
      ]
     },
     "metadata": {},
     "output_type": "display_data"
    },
    {
     "data": {
      "image/png": "[encoded data removed]",
      "text/plain": [
       "plot without title"
      ]
     },
     "metadata": {
      "image/png": {
       "height": 420,
       "width": 420
      }
     },
     "output_type": "display_data"
    }
   ],
   "source": [
    "f1<- forest_objs[[LCMI_idx[1]]]\n",
    "n<- f1$n\n",
    "\n",
    "sum(f1$A_T[n+1,])\n",
    "\n",
    "plot(coords$V3,coords$V4)\n",
    "for(i in 2:n){\n",
    "  for(j in 1:n){\n",
    "    if(f1$A_T[i,j]==1){\n",
    "        if(i %in% sel_node){\n",
    "            if(j %in% sel_node){\n",
    "                  lines(coords$V3[c(i,j)],coords$V4[c(i,j)])\n",
    "        }\n",
    "        }\n",
    "    }\n",
    "  }\n",
    "}"
   ]
  }
 ],
 "metadata": {
  "kernelspec": {
   "display_name": "R",
   "language": "R",
   "name": "ir"
  },
  "language_info": {
   "codemirror_mode": "r",
   "file_extension": ".r",
   "mimetype": "text/x-r-source",
   "name": "R",
   "pygments_lexer": "r",
   "version": "4.2.2"
  }
 },
 "nbformat": 4,
 "nbformat_minor": 5
}
